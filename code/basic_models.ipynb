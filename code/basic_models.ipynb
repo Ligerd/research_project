{
 "cells": [
  {
   "cell_type": "code",
   "execution_count": 30,
   "id": "89e642eb",
   "metadata": {},
   "outputs": [],
   "source": [
    "# Data wrangling\n",
    "import pandas as pd \n",
    "\n",
    "# Visualization\n",
    "import matplotlib.pyplot as plt \n",
    "import seaborn as sns \n",
    "\n",
    "# Date wrangling\n",
    "import datetime\n",
    "\n",
    "# Math operations\n",
    "import numpy as np\n",
    "\n",
    "# Random sampling\n",
    "import random\n",
    "from sklearn.linear_model import LogisticRegression\n",
    "from sklearn import metrics\n",
    "from sklearn.model_selection import train_test_split\n",
    "from sklearn.linear_model import LinearRegression\n",
    "from sklearn.tree import DecisionTreeRegressor"
   ]
  },
  {
   "cell_type": "code",
   "execution_count": 3,
   "id": "723fff2b",
   "metadata": {},
   "outputs": [
    {
     "name": "stdout",
     "output_type": "stream",
     "text": [
      "Shape of data 2005: (165, 5)\n",
      "Shape of data 2006: (165, 5)\n"
     ]
    }
   ],
   "source": [
    "df2005 = pd.read_csv(\"../data/forModels/clean_data_2005.csv\", sep = ',')\n",
    "df2005.index = pd.to_datetime(df2005.Date, format=\"%d.%m.%Y\")\n",
    "df2005 = df2005.drop(['Date'], axis=1)\n",
    "\n",
    "df2006 = pd.read_csv(\"../data/forModels/clean_data_2006.csv\", sep = ',')\n",
    "df2006.index = pd.to_datetime(df2006.Date, format=\"%d.%m.%Y\")\n",
    "df2006 = df2006.drop(['Date'], axis=1)\n",
    "\n",
    "print(f'Shape of data 2005: {df2005.shape}')\n",
    "print(f'Shape of data 2006: {df2006.shape}')\n",
    "\n",
    "df = pd.concat([df2005, df2006], axis=0)\n",
    "# df = df.fillna(0)"
   ]
  },
  {
   "cell_type": "code",
   "execution_count": 10,
   "id": "eec2ff36",
   "metadata": {},
   "outputs": [
    {
     "data": {
      "text/html": [
       "<div>\n",
       "<style scoped>\n",
       "    .dataframe tbody tr th:only-of-type {\n",
       "        vertical-align: middle;\n",
       "    }\n",
       "\n",
       "    .dataframe tbody tr th {\n",
       "        vertical-align: top;\n",
       "    }\n",
       "\n",
       "    .dataframe thead th {\n",
       "        text-align: right;\n",
       "    }\n",
       "</style>\n",
       "<table border=\"1\" class=\"dataframe\">\n",
       "  <thead>\n",
       "    <tr style=\"text-align: right;\">\n",
       "      <th></th>\n",
       "      <th>Avg</th>\n",
       "      <th>DD</th>\n",
       "      <th>DDSum</th>\n",
       "      <th>Rain</th>\n",
       "      <th>Sum_trap</th>\n",
       "    </tr>\n",
       "    <tr>\n",
       "      <th>Date</th>\n",
       "      <th></th>\n",
       "      <th></th>\n",
       "      <th></th>\n",
       "      <th></th>\n",
       "      <th></th>\n",
       "    </tr>\n",
       "  </thead>\n",
       "  <tbody>\n",
       "    <tr>\n",
       "      <th>2005-05-01</th>\n",
       "      <td>12.93</td>\n",
       "      <td>2.93</td>\n",
       "      <td>32.13</td>\n",
       "      <td>0.0</td>\n",
       "      <td>0.0</td>\n",
       "    </tr>\n",
       "    <tr>\n",
       "      <th>2005-05-02</th>\n",
       "      <td>15.07</td>\n",
       "      <td>5.07</td>\n",
       "      <td>37.21</td>\n",
       "      <td>0.0</td>\n",
       "      <td>0.0</td>\n",
       "    </tr>\n",
       "    <tr>\n",
       "      <th>2005-05-03</th>\n",
       "      <td>16.30</td>\n",
       "      <td>6.30</td>\n",
       "      <td>43.51</td>\n",
       "      <td>3.0</td>\n",
       "      <td>0.0</td>\n",
       "    </tr>\n",
       "    <tr>\n",
       "      <th>2005-05-04</th>\n",
       "      <td>13.23</td>\n",
       "      <td>3.23</td>\n",
       "      <td>46.74</td>\n",
       "      <td>6.1</td>\n",
       "      <td>0.0</td>\n",
       "    </tr>\n",
       "    <tr>\n",
       "      <th>2005-05-05</th>\n",
       "      <td>9.33</td>\n",
       "      <td>0.00</td>\n",
       "      <td>46.74</td>\n",
       "      <td>23.0</td>\n",
       "      <td>0.0</td>\n",
       "    </tr>\n",
       "    <tr>\n",
       "      <th>...</th>\n",
       "      <td>...</td>\n",
       "      <td>...</td>\n",
       "      <td>...</td>\n",
       "      <td>...</td>\n",
       "      <td>...</td>\n",
       "    </tr>\n",
       "    <tr>\n",
       "      <th>2005-10-08</th>\n",
       "      <td>10.29</td>\n",
       "      <td>0.29</td>\n",
       "      <td>895.14</td>\n",
       "      <td>0.0</td>\n",
       "      <td>0.0</td>\n",
       "    </tr>\n",
       "    <tr>\n",
       "      <th>2005-10-09</th>\n",
       "      <td>8.98</td>\n",
       "      <td>0.00</td>\n",
       "      <td>895.14</td>\n",
       "      <td>0.0</td>\n",
       "      <td>0.0</td>\n",
       "    </tr>\n",
       "    <tr>\n",
       "      <th>2005-10-10</th>\n",
       "      <td>9.86</td>\n",
       "      <td>0.00</td>\n",
       "      <td>895.14</td>\n",
       "      <td>0.0</td>\n",
       "      <td>0.0</td>\n",
       "    </tr>\n",
       "    <tr>\n",
       "      <th>2005-10-11</th>\n",
       "      <td>7.43</td>\n",
       "      <td>0.00</td>\n",
       "      <td>895.14</td>\n",
       "      <td>0.0</td>\n",
       "      <td>0.0</td>\n",
       "    </tr>\n",
       "    <tr>\n",
       "      <th>2005-10-12</th>\n",
       "      <td>7.25</td>\n",
       "      <td>0.00</td>\n",
       "      <td>895.14</td>\n",
       "      <td>0.0</td>\n",
       "      <td>0.0</td>\n",
       "    </tr>\n",
       "  </tbody>\n",
       "</table>\n",
       "<p>165 rows × 5 columns</p>\n",
       "</div>"
      ],
      "text/plain": [
       "              Avg    DD   DDSum  Rain  Sum_trap\n",
       "Date                                           \n",
       "2005-05-01  12.93  2.93   32.13   0.0       0.0\n",
       "2005-05-02  15.07  5.07   37.21   0.0       0.0\n",
       "2005-05-03  16.30  6.30   43.51   3.0       0.0\n",
       "2005-05-04  13.23  3.23   46.74   6.1       0.0\n",
       "2005-05-05   9.33  0.00   46.74  23.0       0.0\n",
       "...           ...   ...     ...   ...       ...\n",
       "2005-10-08  10.29  0.29  895.14   0.0       0.0\n",
       "2005-10-09   8.98  0.00  895.14   0.0       0.0\n",
       "2005-10-10   9.86  0.00  895.14   0.0       0.0\n",
       "2005-10-11   7.43  0.00  895.14   0.0       0.0\n",
       "2005-10-12   7.25  0.00  895.14   0.0       0.0\n",
       "\n",
       "[165 rows x 5 columns]"
      ]
     },
     "execution_count": 10,
     "metadata": {},
     "output_type": "execute_result"
    }
   ],
   "source": [
    "df2005"
   ]
  },
  {
   "cell_type": "code",
   "execution_count": 12,
   "id": "8234dd26",
   "metadata": {},
   "outputs": [],
   "source": [
    "x = df.drop('Sum_trap', axis=1)\n",
    "y = df['Sum_trap']"
   ]
  },
  {
   "cell_type": "code",
   "execution_count": 26,
   "id": "8229f108",
   "metadata": {},
   "outputs": [],
   "source": [
    "x_train, x_test, y_train, y_test = train_test_split(x,y,test_size=0.25,random_state=0)"
   ]
  },
  {
   "cell_type": "markdown",
   "id": "f2ddab63",
   "metadata": {},
   "source": [
    "## LinerRegression"
   ]
  },
  {
   "cell_type": "code",
   "execution_count": 16,
   "id": "161d6a22",
   "metadata": {},
   "outputs": [
    {
     "data": {
      "text/plain": [
       "LinearRegression()"
      ]
     },
     "execution_count": 16,
     "metadata": {},
     "output_type": "execute_result"
    }
   ],
   "source": [
    "slr = LinearRegression()  \n",
    "slr.fit(x_train, y_train)"
   ]
  },
  {
   "cell_type": "code",
   "execution_count": 17,
   "id": "8e0ce73f",
   "metadata": {},
   "outputs": [],
   "source": [
    "y_pred_slr= slr.predict(x_test)"
   ]
  },
  {
   "cell_type": "code",
   "execution_count": 18,
   "id": "26e691e9",
   "metadata": {},
   "outputs": [
    {
     "data": {
      "text/html": [
       "<div>\n",
       "<style scoped>\n",
       "    .dataframe tbody tr th:only-of-type {\n",
       "        vertical-align: middle;\n",
       "    }\n",
       "\n",
       "    .dataframe tbody tr th {\n",
       "        vertical-align: top;\n",
       "    }\n",
       "\n",
       "    .dataframe thead th {\n",
       "        text-align: right;\n",
       "    }\n",
       "</style>\n",
       "<table border=\"1\" class=\"dataframe\">\n",
       "  <thead>\n",
       "    <tr style=\"text-align: right;\">\n",
       "      <th></th>\n",
       "      <th>Actual value</th>\n",
       "      <th>Predicted value</th>\n",
       "    </tr>\n",
       "    <tr>\n",
       "      <th>Date</th>\n",
       "      <th></th>\n",
       "      <th></th>\n",
       "    </tr>\n",
       "  </thead>\n",
       "  <tbody>\n",
       "    <tr>\n",
       "      <th>2005-09-12</th>\n",
       "      <td>4.0</td>\n",
       "      <td>9.847324</td>\n",
       "    </tr>\n",
       "    <tr>\n",
       "      <th>2005-06-30</th>\n",
       "      <td>13.0</td>\n",
       "      <td>6.440001</td>\n",
       "    </tr>\n",
       "    <tr>\n",
       "      <th>2006-07-25</th>\n",
       "      <td>11.0</td>\n",
       "      <td>18.564859</td>\n",
       "    </tr>\n",
       "    <tr>\n",
       "      <th>2006-08-13</th>\n",
       "      <td>5.0</td>\n",
       "      <td>9.619610</td>\n",
       "    </tr>\n",
       "    <tr>\n",
       "      <th>2005-10-05</th>\n",
       "      <td>0.0</td>\n",
       "      <td>0.278494</td>\n",
       "    </tr>\n",
       "  </tbody>\n",
       "</table>\n",
       "</div>"
      ],
      "text/plain": [
       "            Actual value  Predicted value\n",
       "Date                                     \n",
       "2005-09-12           4.0         9.847324\n",
       "2005-06-30          13.0         6.440001\n",
       "2006-07-25          11.0        18.564859\n",
       "2006-08-13           5.0         9.619610\n",
       "2005-10-05           0.0         0.278494"
      ]
     },
     "execution_count": 18,
     "metadata": {},
     "output_type": "execute_result"
    }
   ],
   "source": [
    "slr_diff = pd.DataFrame({'Actual value': y_test, 'Predicted value': y_pred_slr})\n",
    "slr_diff.head()"
   ]
  },
  {
   "cell_type": "code",
   "execution_count": 20,
   "id": "754f5497",
   "metadata": {},
   "outputs": [
    {
     "data": {
      "text/plain": [
       "(99, 4)"
      ]
     },
     "execution_count": 20,
     "metadata": {},
     "output_type": "execute_result"
    }
   ],
   "source": [
    "x_test.shape"
   ]
  },
  {
   "cell_type": "code",
   "execution_count": 22,
   "id": "addc4723",
   "metadata": {},
   "outputs": [
    {
     "name": "stdout",
     "output_type": "stream",
     "text": [
      "R squared: 24.00\n",
      "Mean Absolute Error: 5.48824975022981\n",
      "Mean Square Error: 58.75605981581086\n",
      "Root Mean Square Error: 7.665250146982214\n"
     ]
    }
   ],
   "source": [
    "meanAbErr = metrics.mean_absolute_error(y_test, y_pred_slr)\n",
    "meanSqErr = metrics.mean_squared_error(y_test, y_pred_slr)\n",
    "rootMeanSqErr = np.sqrt(metrics.mean_squared_error(y_test, y_pred_slr))\n",
    "print('R squared: {:.2f}'.format(slr.score(x,y)*100))\n",
    "print('Mean Absolute Error:', meanAbErr)\n",
    "print('Mean Square Error:', meanSqErr)\n",
    "print('Root Mean Square Error:', rootMeanSqErr)"
   ]
  },
  {
   "cell_type": "markdown",
   "id": "ccf500f7",
   "metadata": {},
   "source": [
    "## LogisticRegression"
   ]
  },
  {
   "cell_type": "code",
   "execution_count": 31,
   "id": "faabfb7c",
   "metadata": {},
   "outputs": [],
   "source": [
    "model = LogisticRegression(solver='liblinear', random_state=0).fit(x_train, y_train)"
   ]
  },
  {
   "cell_type": "code",
   "execution_count": 32,
   "id": "ae8ecf0c",
   "metadata": {},
   "outputs": [
    {
     "data": {
      "text/plain": [
       "DecisionTreeRegressor(random_state=0)"
      ]
     },
     "execution_count": 32,
     "metadata": {},
     "output_type": "execute_result"
    }
   ],
   "source": [
    "logreg.fit(x_train,y_train)"
   ]
  },
  {
   "cell_type": "markdown",
   "id": "3b6a9da4",
   "metadata": {},
   "source": [
    "## SVM"
   ]
  },
  {
   "cell_type": "code",
   "execution_count": 37,
   "id": "7919fed8",
   "metadata": {},
   "outputs": [
    {
     "data": {
      "text/plain": [
       "SVR(kernel='poly')"
      ]
     },
     "execution_count": 37,
     "metadata": {},
     "output_type": "execute_result"
    }
   ],
   "source": [
    "from sklearn.svm import SVR\n",
    "regressor = SVR(kernel = 'poly')\n",
    "regressor.fit(x_train, y_train)"
   ]
  },
  {
   "cell_type": "code",
   "execution_count": 38,
   "id": "8460027a",
   "metadata": {},
   "outputs": [],
   "source": [
    "y_pred_svm = regressor.predict(x_test)"
   ]
  },
  {
   "cell_type": "code",
   "execution_count": 39,
   "id": "fe7c0d94",
   "metadata": {},
   "outputs": [
    {
     "data": {
      "text/html": [
       "<div>\n",
       "<style scoped>\n",
       "    .dataframe tbody tr th:only-of-type {\n",
       "        vertical-align: middle;\n",
       "    }\n",
       "\n",
       "    .dataframe tbody tr th {\n",
       "        vertical-align: top;\n",
       "    }\n",
       "\n",
       "    .dataframe thead th {\n",
       "        text-align: right;\n",
       "    }\n",
       "</style>\n",
       "<table border=\"1\" class=\"dataframe\">\n",
       "  <thead>\n",
       "    <tr style=\"text-align: right;\">\n",
       "      <th></th>\n",
       "      <th>Actual value</th>\n",
       "      <th>Predicted value</th>\n",
       "    </tr>\n",
       "    <tr>\n",
       "      <th>Date</th>\n",
       "      <th></th>\n",
       "      <th></th>\n",
       "    </tr>\n",
       "  </thead>\n",
       "  <tbody>\n",
       "    <tr>\n",
       "      <th>2005-08-31</th>\n",
       "      <td>9.5</td>\n",
       "      <td>4.168407</td>\n",
       "    </tr>\n",
       "    <tr>\n",
       "      <th>2005-07-06</th>\n",
       "      <td>69.0</td>\n",
       "      <td>5.385625</td>\n",
       "    </tr>\n",
       "    <tr>\n",
       "      <th>2005-09-20</th>\n",
       "      <td>0.0</td>\n",
       "      <td>3.290862</td>\n",
       "    </tr>\n",
       "    <tr>\n",
       "      <th>2006-07-21</th>\n",
       "      <td>21.5</td>\n",
       "      <td>4.939563</td>\n",
       "    </tr>\n",
       "    <tr>\n",
       "      <th>2005-09-24</th>\n",
       "      <td>0.0</td>\n",
       "      <td>3.291158</td>\n",
       "    </tr>\n",
       "  </tbody>\n",
       "</table>\n",
       "</div>"
      ],
      "text/plain": [
       "            Actual value  Predicted value\n",
       "Date                                     \n",
       "2005-08-31           9.5         4.168407\n",
       "2005-07-06          69.0         5.385625\n",
       "2005-09-20           0.0         3.290862\n",
       "2006-07-21          21.5         4.939563\n",
       "2005-09-24           0.0         3.291158"
      ]
     },
     "execution_count": 39,
     "metadata": {},
     "output_type": "execute_result"
    }
   ],
   "source": [
    "slr_diff = pd.DataFrame({'Actual value': y_test, 'Predicted value': y_pred_svm})\n",
    "slr_diff.head()"
   ]
  },
  {
   "cell_type": "code",
   "execution_count": 40,
   "id": "4fcaa27c",
   "metadata": {},
   "outputs": [
    {
     "name": "stdout",
     "output_type": "stream",
     "text": [
      "R squared: -5.04\n",
      "Mean Absolute Error: 7.268487189573204\n",
      "Mean Square Error: 181.1603255851173\n",
      "Root Mean Square Error: 13.459581181638502\n"
     ]
    }
   ],
   "source": [
    "meanAbErr = metrics.mean_absolute_error(y_test, y_pred_svm)\n",
    "meanSqErr = metrics.mean_squared_error(y_test, y_pred_svm)\n",
    "rootMeanSqErr = np.sqrt(metrics.mean_squared_error(y_test, y_pred_svm))\n",
    "print('R squared: {:.2f}'.format(regressor.score(x,y)*100))\n",
    "print('Mean Absolute Error:', meanAbErr)\n",
    "print('Mean Square Error:', meanSqErr)\n",
    "print('Root Mean Square Error:', rootMeanSqErr)"
   ]
  },
  {
   "cell_type": "code",
   "execution_count": null,
   "id": "efe64048",
   "metadata": {},
   "outputs": [],
   "source": []
  }
 ],
 "metadata": {
  "kernelspec": {
   "display_name": "Python 3 (ipykernel)",
   "language": "python",
   "name": "python3"
  },
  "language_info": {
   "codemirror_mode": {
    "name": "ipython",
    "version": 3
   },
   "file_extension": ".py",
   "mimetype": "text/x-python",
   "name": "python",
   "nbconvert_exporter": "python",
   "pygments_lexer": "ipython3",
   "version": "3.8.10"
  }
 },
 "nbformat": 4,
 "nbformat_minor": 5
}
