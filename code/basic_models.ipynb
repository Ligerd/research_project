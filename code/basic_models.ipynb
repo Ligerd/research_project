{
 "cells": [
  {
   "cell_type": "code",
   "execution_count": 13,
   "id": "89e642eb",
   "metadata": {},
   "outputs": [],
   "source": [
    "# Data wrangling\n",
    "import pandas as pd \n",
    "\n",
    "# Visualization\n",
    "import matplotlib.pyplot as plt \n",
    "import seaborn as sns \n",
    "\n",
    "# Date wrangling\n",
    "import datetime\n",
    "\n",
    "# Math operations\n",
    "import numpy as np\n",
    "\n",
    "# Random sampling\n",
    "import random\n",
    "from sklearn.linear_model import LogisticRegression\n",
    "from sklearn import metrics\n",
    "from sklearn.model_selection import train_test_split\n",
    "from sklearn.linear_model import LinearRegression\n",
    "from sklearn.tree import DecisionTreeRegressor\n",
    "\n",
    "\n",
    "import datetime\n",
    "import matplotlib.pyplot as plt\n",
    "import matplotlib.dates\n",
    "import seaborn as sns\n",
    "import matplotlib.dates as mdates"
   ]
  },
  {
   "cell_type": "code",
   "execution_count": 14,
   "id": "723fff2b",
   "metadata": {},
   "outputs": [
    {
     "name": "stdout",
     "output_type": "stream",
     "text": [
      "Shape of data 2005: (165, 5)\n",
      "Shape of data 2006: (165, 5)\n"
     ]
    }
   ],
   "source": [
    "df2005 = pd.read_csv(\"../data/forModels/clean_data_2005.csv\", sep = ',')\n",
    "df2005.index = pd.to_datetime(df2005.Date, format=\"%d.%m.%Y\")\n",
    "df2005 = df2005.drop(['Date'], axis=1)\n",
    "\n",
    "df2006 = pd.read_csv(\"../data/forModels/clean_data_2006.csv\", sep = ',')\n",
    "df2006.index = pd.to_datetime(df2006.Date, format=\"%d.%m.%Y\")\n",
    "df2006 = df2006.drop(['Date'], axis=1)\n",
    "\n",
    "print(f'Shape of data 2005: {df2005.shape}')\n",
    "print(f'Shape of data 2006: {df2006.shape}')\n",
    "\n",
    "df = pd.concat([df2005, df2006], axis=0)\n",
    "# df = df.fillna(0)"
   ]
  },
  {
   "cell_type": "code",
   "execution_count": 40,
   "id": "a8201ab3",
   "metadata": {},
   "outputs": [
    {
     "data": {
      "text/html": [
       "<div>\n",
       "<style scoped>\n",
       "    .dataframe tbody tr th:only-of-type {\n",
       "        vertical-align: middle;\n",
       "    }\n",
       "\n",
       "    .dataframe tbody tr th {\n",
       "        vertical-align: top;\n",
       "    }\n",
       "\n",
       "    .dataframe thead th {\n",
       "        text-align: right;\n",
       "    }\n",
       "</style>\n",
       "<table border=\"1\" class=\"dataframe\">\n",
       "  <thead>\n",
       "    <tr style=\"text-align: right;\">\n",
       "      <th></th>\n",
       "      <th>Date</th>\n",
       "      <th>Avg</th>\n",
       "      <th>DD</th>\n",
       "      <th>DDSum</th>\n",
       "      <th>Rain</th>\n",
       "      <th>Sum_trap</th>\n",
       "    </tr>\n",
       "  </thead>\n",
       "  <tbody>\n",
       "    <tr>\n",
       "      <th>0</th>\n",
       "      <td>2005-05-01</td>\n",
       "      <td>12.93</td>\n",
       "      <td>2.93</td>\n",
       "      <td>32.13</td>\n",
       "      <td>0.0</td>\n",
       "      <td>0.0</td>\n",
       "    </tr>\n",
       "    <tr>\n",
       "      <th>1</th>\n",
       "      <td>2005-05-02</td>\n",
       "      <td>15.07</td>\n",
       "      <td>5.07</td>\n",
       "      <td>37.21</td>\n",
       "      <td>0.0</td>\n",
       "      <td>0.0</td>\n",
       "    </tr>\n",
       "    <tr>\n",
       "      <th>2</th>\n",
       "      <td>2005-05-03</td>\n",
       "      <td>16.30</td>\n",
       "      <td>6.30</td>\n",
       "      <td>43.51</td>\n",
       "      <td>3.0</td>\n",
       "      <td>0.0</td>\n",
       "    </tr>\n",
       "    <tr>\n",
       "      <th>3</th>\n",
       "      <td>2005-05-04</td>\n",
       "      <td>13.23</td>\n",
       "      <td>3.23</td>\n",
       "      <td>46.74</td>\n",
       "      <td>6.1</td>\n",
       "      <td>0.0</td>\n",
       "    </tr>\n",
       "    <tr>\n",
       "      <th>4</th>\n",
       "      <td>2005-05-05</td>\n",
       "      <td>9.33</td>\n",
       "      <td>0.00</td>\n",
       "      <td>46.74</td>\n",
       "      <td>23.0</td>\n",
       "      <td>0.0</td>\n",
       "    </tr>\n",
       "    <tr>\n",
       "      <th>...</th>\n",
       "      <td>...</td>\n",
       "      <td>...</td>\n",
       "      <td>...</td>\n",
       "      <td>...</td>\n",
       "      <td>...</td>\n",
       "      <td>...</td>\n",
       "    </tr>\n",
       "    <tr>\n",
       "      <th>325</th>\n",
       "      <td>2006-10-08</td>\n",
       "      <td>11.54</td>\n",
       "      <td>1.54</td>\n",
       "      <td>1149.50</td>\n",
       "      <td>0.0</td>\n",
       "      <td>0.0</td>\n",
       "    </tr>\n",
       "    <tr>\n",
       "      <th>326</th>\n",
       "      <td>2006-10-09</td>\n",
       "      <td>11.44</td>\n",
       "      <td>1.44</td>\n",
       "      <td>1150.94</td>\n",
       "      <td>0.0</td>\n",
       "      <td>0.0</td>\n",
       "    </tr>\n",
       "    <tr>\n",
       "      <th>327</th>\n",
       "      <td>2006-10-10</td>\n",
       "      <td>10.61</td>\n",
       "      <td>0.61</td>\n",
       "      <td>1151.55</td>\n",
       "      <td>0.0</td>\n",
       "      <td>0.0</td>\n",
       "    </tr>\n",
       "    <tr>\n",
       "      <th>328</th>\n",
       "      <td>2006-10-11</td>\n",
       "      <td>10.82</td>\n",
       "      <td>0.82</td>\n",
       "      <td>1152.37</td>\n",
       "      <td>0.0</td>\n",
       "      <td>0.0</td>\n",
       "    </tr>\n",
       "    <tr>\n",
       "      <th>329</th>\n",
       "      <td>2006-10-12</td>\n",
       "      <td>10.60</td>\n",
       "      <td>0.60</td>\n",
       "      <td>1152.97</td>\n",
       "      <td>0.0</td>\n",
       "      <td>0.0</td>\n",
       "    </tr>\n",
       "  </tbody>\n",
       "</table>\n",
       "<p>330 rows × 6 columns</p>\n",
       "</div>"
      ],
      "text/plain": [
       "          Date    Avg    DD    DDSum  Rain  Sum_trap\n",
       "0   2005-05-01  12.93  2.93    32.13   0.0       0.0\n",
       "1   2005-05-02  15.07  5.07    37.21   0.0       0.0\n",
       "2   2005-05-03  16.30  6.30    43.51   3.0       0.0\n",
       "3   2005-05-04  13.23  3.23    46.74   6.1       0.0\n",
       "4   2005-05-05   9.33  0.00    46.74  23.0       0.0\n",
       "..         ...    ...   ...      ...   ...       ...\n",
       "325 2006-10-08  11.54  1.54  1149.50   0.0       0.0\n",
       "326 2006-10-09  11.44  1.44  1150.94   0.0       0.0\n",
       "327 2006-10-10  10.61  0.61  1151.55   0.0       0.0\n",
       "328 2006-10-11  10.82  0.82  1152.37   0.0       0.0\n",
       "329 2006-10-12  10.60  0.60  1152.97   0.0       0.0\n",
       "\n",
       "[330 rows x 6 columns]"
      ]
     },
     "execution_count": 40,
     "metadata": {},
     "output_type": "execute_result"
    }
   ],
   "source": [
    "df"
   ]
  },
  {
   "cell_type": "code",
   "execution_count": 19,
   "id": "f140678a",
   "metadata": {},
   "outputs": [],
   "source": [
    "df = df.reset_index()"
   ]
  },
  {
   "cell_type": "code",
   "execution_count": 22,
   "id": "f7c00b8f",
   "metadata": {},
   "outputs": [],
   "source": [
    "def plot_data(df):\n",
    "#     x_values = [datetime.datetime.strptime(d,\"%d.%m.%Y\").date() for d in df['Date']]\n",
    "    plt.gca().xaxis.set_major_formatter(mdates.DateFormatter('%Y-%m-%d'))\n",
    "    plt.gca().xaxis.set_major_locator(mdates.DayLocator(interval=10))\n",
    "    plt.plot(df['Date'],df['Sum_trap'])\n",
    "    plt.gcf().autofmt_xdate()\n",
    "    plt.xlabel(\"Data\")\n",
    "    plt.ylabel(\"Liczba motyli\")\n",
    "    plt.show()"
   ]
  },
  {
   "cell_type": "code",
   "execution_count": 23,
   "id": "eec2ff36",
   "metadata": {},
   "outputs": [
    {
     "data": {
      "image/png": "[encoded data removed]",
      "text/plain": [
       "<Figure size 432x288 with 1 Axes>"
      ]
     },
     "metadata": {
      "needs_background": "light"
     },
     "output_type": "display_data"
    }
   ],
   "source": [
    "plot_data(df)"
   ]
  },
  {
   "cell_type": "code",
   "execution_count": 28,
   "id": "8234dd26",
   "metadata": {},
   "outputs": [],
   "source": [
    "x = df.drop(['Date','DD','Sum_trap'], axis=1)\n",
    "y = df['Sum_trap']"
   ]
  },
  {
   "cell_type": "code",
   "execution_count": 31,
   "id": "8229f108",
   "metadata": {},
   "outputs": [],
   "source": [
    "x_train, x_test, y_train, y_test = train_test_split(x,y,test_size=0.25,random_state=0)"
   ]
  },
  {
   "cell_type": "markdown",
   "id": "f2ddab63",
   "metadata": {},
   "source": [
    "## LinerRegression"
   ]
  },
  {
   "cell_type": "code",
   "execution_count": 32,
   "id": "161d6a22",
   "metadata": {},
   "outputs": [
    {
     "data": {
      "text/plain": [
       "LinearRegression()"
      ]
     },
     "execution_count": 32,
     "metadata": {},
     "output_type": "execute_result"
    }
   ],
   "source": [
    "slr = LinearRegression()  \n",
    "slr.fit(x_train, y_train)"
   ]
  },
  {
   "cell_type": "code",
   "execution_count": 33,
   "id": "8e0ce73f",
   "metadata": {},
   "outputs": [],
   "source": [
    "y_pred_slr= slr.predict(x_test)"
   ]
  },
  {
   "cell_type": "code",
   "execution_count": 34,
   "id": "26e691e9",
   "metadata": {},
   "outputs": [
    {
     "data": {
      "text/html": [
       "<div>\n",
       "<style scoped>\n",
       "    .dataframe tbody tr th:only-of-type {\n",
       "        vertical-align: middle;\n",
       "    }\n",
       "\n",
       "    .dataframe tbody tr th {\n",
       "        vertical-align: top;\n",
       "    }\n",
       "\n",
       "    .dataframe thead th {\n",
       "        text-align: right;\n",
       "    }\n",
       "</style>\n",
       "<table border=\"1\" class=\"dataframe\">\n",
       "  <thead>\n",
       "    <tr style=\"text-align: right;\">\n",
       "      <th></th>\n",
       "      <th>Actual value</th>\n",
       "      <th>Predicted value</th>\n",
       "    </tr>\n",
       "  </thead>\n",
       "  <tbody>\n",
       "    <tr>\n",
       "      <th>122</th>\n",
       "      <td>9.5</td>\n",
       "      <td>8.263345</td>\n",
       "    </tr>\n",
       "    <tr>\n",
       "      <th>66</th>\n",
       "      <td>69.0</td>\n",
       "      <td>13.018723</td>\n",
       "    </tr>\n",
       "    <tr>\n",
       "      <th>142</th>\n",
       "      <td>0.0</td>\n",
       "      <td>0.633046</td>\n",
       "    </tr>\n",
       "    <tr>\n",
       "      <th>246</th>\n",
       "      <td>21.5</td>\n",
       "      <td>16.370901</td>\n",
       "    </tr>\n",
       "    <tr>\n",
       "      <th>146</th>\n",
       "      <td>0.0</td>\n",
       "      <td>2.325660</td>\n",
       "    </tr>\n",
       "  </tbody>\n",
       "</table>\n",
       "</div>"
      ],
      "text/plain": [
       "     Actual value  Predicted value\n",
       "122           9.5         8.263345\n",
       "66           69.0        13.018723\n",
       "142           0.0         0.633046\n",
       "246          21.5        16.370901\n",
       "146           0.0         2.325660"
      ]
     },
     "execution_count": 34,
     "metadata": {},
     "output_type": "execute_result"
    }
   ],
   "source": [
    "slr_diff = pd.DataFrame({'Actual value': y_test, 'Predicted value': y_pred_slr})\n",
    "slr_diff.head()"
   ]
  },
  {
   "cell_type": "code",
   "execution_count": 20,
   "id": "754f5497",
   "metadata": {},
   "outputs": [
    {
     "data": {
      "text/plain": [
       "(99, 4)"
      ]
     },
     "execution_count": 20,
     "metadata": {},
     "output_type": "execute_result"
    }
   ],
   "source": [
    "x_test.shape"
   ]
  },
  {
   "cell_type": "code",
   "execution_count": 35,
   "id": "addc4723",
   "metadata": {},
   "outputs": [
    {
     "name": "stdout",
     "output_type": "stream",
     "text": [
      "R squared: 23.55\n",
      "Mean Absolute Error: 6.458037948561373\n",
      "Mean Square Error: 120.95919641457625\n",
      "Root Mean Square Error: 10.998145135184217\n"
     ]
    }
   ],
   "source": [
    "meanAbErr = metrics.mean_absolute_error(y_test, y_pred_slr)\n",
    "meanSqErr = metrics.mean_squared_error(y_test, y_pred_slr)\n",
    "rootMeanSqErr = np.sqrt(metrics.mean_squared_error(y_test, y_pred_slr))\n",
    "print('R squared: {:.2f}'.format(slr.score(x,y)*100))\n",
    "print('Mean Absolute Error:', meanAbErr)\n",
    "print('Mean Square Error:', meanSqErr)\n",
    "print('Root Mean Square Error:', rootMeanSqErr)"
   ]
  },
  {
   "cell_type": "code",
   "execution_count": null,
   "id": "3f61fed5",
   "metadata": {},
   "outputs": [],
   "source": [
    "plt.plot(df['Date'],df['Sum_trap'])"
   ]
  },
  {
   "cell_type": "markdown",
   "id": "ccf500f7",
   "metadata": {},
   "source": [
    "## LogisticRegression"
   ]
  },
  {
   "cell_type": "code",
   "execution_count": 31,
   "id": "faabfb7c",
   "metadata": {},
   "outputs": [],
   "source": [
    "model = LogisticRegression(solver='liblinear', random_state=0).fit(x_train, y_train)"
   ]
  },
  {
   "cell_type": "code",
   "execution_count": 32,
   "id": "ae8ecf0c",
   "metadata": {},
   "outputs": [
    {
     "data": {
      "text/plain": [
       "DecisionTreeRegressor(random_state=0)"
      ]
     },
     "execution_count": 32,
     "metadata": {},
     "output_type": "execute_result"
    }
   ],
   "source": [
    "logreg.fit(x_train,y_train)"
   ]
  },
  {
   "cell_type": "markdown",
   "id": "3b6a9da4",
   "metadata": {},
   "source": [
    "## SVM"
   ]
  },
  {
   "cell_type": "code",
   "execution_count": 36,
   "id": "7919fed8",
   "metadata": {},
   "outputs": [
    {
     "data": {
      "text/plain": [
       "SVR(kernel='poly')"
      ]
     },
     "execution_count": 36,
     "metadata": {},
     "output_type": "execute_result"
    }
   ],
   "source": [
    "from sklearn.svm import SVR\n",
    "regressor = SVR(kernel = 'poly')\n",
    "regressor.fit(x_train, y_train)"
   ]
  },
  {
   "cell_type": "code",
   "execution_count": 37,
   "id": "8460027a",
   "metadata": {},
   "outputs": [],
   "source": [
    "y_pred_svm = regressor.predict(x_test)"
   ]
  },
  {
   "cell_type": "code",
   "execution_count": 38,
   "id": "fe7c0d94",
   "metadata": {},
   "outputs": [
    {
     "data": {
      "text/html": [
       "<div>\n",
       "<style scoped>\n",
       "    .dataframe tbody tr th:only-of-type {\n",
       "        vertical-align: middle;\n",
       "    }\n",
       "\n",
       "    .dataframe tbody tr th {\n",
       "        vertical-align: top;\n",
       "    }\n",
       "\n",
       "    .dataframe thead th {\n",
       "        text-align: right;\n",
       "    }\n",
       "</style>\n",
       "<table border=\"1\" class=\"dataframe\">\n",
       "  <thead>\n",
       "    <tr style=\"text-align: right;\">\n",
       "      <th></th>\n",
       "      <th>Actual value</th>\n",
       "      <th>Predicted value</th>\n",
       "    </tr>\n",
       "  </thead>\n",
       "  <tbody>\n",
       "    <tr>\n",
       "      <th>122</th>\n",
       "      <td>9.5</td>\n",
       "      <td>4.182262</td>\n",
       "    </tr>\n",
       "    <tr>\n",
       "      <th>66</th>\n",
       "      <td>69.0</td>\n",
       "      <td>5.419456</td>\n",
       "    </tr>\n",
       "    <tr>\n",
       "      <th>142</th>\n",
       "      <td>0.0</td>\n",
       "      <td>3.354621</td>\n",
       "    </tr>\n",
       "    <tr>\n",
       "      <th>246</th>\n",
       "      <td>21.5</td>\n",
       "      <td>4.933563</td>\n",
       "    </tr>\n",
       "    <tr>\n",
       "      <th>146</th>\n",
       "      <td>0.0</td>\n",
       "      <td>3.340522</td>\n",
       "    </tr>\n",
       "  </tbody>\n",
       "</table>\n",
       "</div>"
      ],
      "text/plain": [
       "     Actual value  Predicted value\n",
       "122           9.5         4.182262\n",
       "66           69.0         5.419456\n",
       "142           0.0         3.354621\n",
       "246          21.5         4.933563\n",
       "146           0.0         3.340522"
      ]
     },
     "execution_count": 38,
     "metadata": {},
     "output_type": "execute_result"
    }
   ],
   "source": [
    "slr_diff = pd.DataFrame({'Actual value': y_test, 'Predicted value': y_pred_svm})\n",
    "slr_diff.head()"
   ]
  },
  {
   "cell_type": "code",
   "execution_count": 39,
   "id": "4fcaa27c",
   "metadata": {},
   "outputs": [
    {
     "name": "stdout",
     "output_type": "stream",
     "text": [
      "R squared: -4.97\n",
      "Mean Absolute Error: 7.275435592132738\n",
      "Mean Square Error: 181.02975868325214\n",
      "Root Mean Square Error: 13.454729974371546\n"
     ]
    }
   ],
   "source": [
    "meanAbErr = metrics.mean_absolute_error(y_test, y_pred_svm)\n",
    "meanSqErr = metrics.mean_squared_error(y_test, y_pred_svm)\n",
    "rootMeanSqErr = np.sqrt(metrics.mean_squared_error(y_test, y_pred_svm))\n",
    "print('R squared: {:.2f}'.format(regressor.score(x,y)*100))\n",
    "print('Mean Absolute Error:', meanAbErr)\n",
    "print('Mean Square Error:', meanSqErr)\n",
    "print('Root Mean Square Error:', rootMeanSqErr)"
   ]
  },
  {
   "cell_type": "code",
   "execution_count": null,
   "id": "efe64048",
   "metadata": {},
   "outputs": [],
   "source": []
  }
 ],
 "metadata": {
  "kernelspec": {
   "display_name": "Python 3 (ipykernel)",
   "language": "python",
   "name": "python3"
  },
  "language_info": {
   "codemirror_mode": {
    "name": "ipython",
    "version": 3
   },
   "file_extension": ".py",
   "mimetype": "text/x-python",
   "name": "python",
   "nbconvert_exporter": "python",
   "pygments_lexer": "ipython3",
   "version": "3.8.10"
  }
 },
 "nbformat": 4,
 "nbformat_minor": 5
}
